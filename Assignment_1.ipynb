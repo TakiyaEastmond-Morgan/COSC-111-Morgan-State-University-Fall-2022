{
  "nbformat": 4,
  "nbformat_minor": 0,
  "metadata": {
    "colab": {
      "provenance": []
    },
    "kernelspec": {
      "name": "python3",
      "display_name": "Python 3"
    },
    "language_info": {
      "name": "python"
    }
  },
  "cells": [
    {
      "cell_type": "code",
      "execution_count": 21,
      "metadata": {
        "colab": {
          "base_uri": "https://localhost:8080/"
        },
        "id": "cCYKDRtpmfYC",
        "outputId": "3c60b2e3-a0b8-4667-cd84-ee42d1f8ea6e"
      },
      "outputs": [
        {
          "output_type": "stream",
          "name": "stdout",
          "text": [
            "Enter a temperature in Fahrenheit: \n",
            "77\n",
            "\n",
            "77.00 degrees Farenheit is converted to 25.00 degrees in Celsius.\n"
          ]
        }
      ],
      "source": [
        "# COSC 111 Assignment 1\n",
        "# Created by Takiya S. Eastmond\n",
        "# September 9, 2022\n",
        "\n",
        "import pandas as pd\n",
        "import numpy as np\n",
        "\n",
        "\n",
        "# 1. Write a program that converts Celsius temperature to Fahrenheit temperature. The program\n",
        "# should ask the user to enter the temperature in Celsius. Then your program will calculate the\n",
        "# value and display the Fahrenheit temperature. \n",
        "\n",
        "# Converting Farenheit to Celsius\n",
        "print('Enter a temperature in Fahrenheit: ')\n",
        "Faren = float(input())\n",
        "\n",
        "Cel = (Faren-32)/1.8\n",
        "print('\\n%0.2f degrees Farenheit is converted to %0.2f degrees in Celsius.' %(Faren, Cel)) # % = modulo operator.... 0.2 returns 2 decimal places.... f indicates returning a float"
      ]
    },
    {
      "cell_type": "code",
      "source": [
        "# Converting Celsius to Farenheit\n",
        "print('Enter a temperature in Celsius: ')\n",
        "Cel = float(input())\n",
        "\n",
        "Faren = (Cel * 9/5) + 32\n",
        "print('\\n%0.2f degrees Celsius is converted to %0.2f degrees in Fahrenheit.' %(Cel, Faren))"
      ],
      "metadata": {
        "colab": {
          "base_uri": "https://localhost:8080/"
        },
        "id": "auAQLxnzry6W",
        "outputId": "de2b2e98-603b-4dd1-f0af-ee112241e0ab"
      },
      "execution_count": 22,
      "outputs": [
        {
          "output_type": "stream",
          "name": "stdout",
          "text": [
            "Enter a temperature in Celsius: \n",
            "77\n",
            "\n",
            "77.00 degrees Celsius is converted to 170.60 degrees in Fahrenheit.\n"
          ]
        }
      ]
    },
    {
      "cell_type": "code",
      "source": [
        "# 2. Now ask the user to enter the total miles he/she drove and the number of gallons of gas used to\n",
        "# cover the distance and compute the per gallon distance they can cover\n",
        "\n",
        "print('How many miles did you drive?: ')\n",
        "Miles = float(input())\n",
        "\n",
        "print('How many gallons of gas did you put in your tank?: ')\n",
        "Gallons = float(input())\n",
        "\n",
        "MPG = (Miles/Gallons)\n",
        "\n",
        "print('Your miles per gallon for this trip was: %0.2f.' %(MPG))"
      ],
      "metadata": {
        "colab": {
          "base_uri": "https://localhost:8080/"
        },
        "id": "Vvmo0EhoufML",
        "outputId": "67c688b8-c1ce-4161-8e63-d7d3bf961d4d"
      },
      "execution_count": 23,
      "outputs": [
        {
          "output_type": "stream",
          "name": "stdout",
          "text": [
            "How many miles did you drive?: \n",
            "67\n",
            "How many gallons of gas did you put in your tank?: \n",
            "4\n",
            "Your miles per gallon for this trip was: 16.75.\n"
          ]
        }
      ]
    }
  ]
}